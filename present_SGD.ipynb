{
  "nbformat": 4,
  "nbformat_minor": 0,
  "metadata": {
    "colab": {
      "name": "present SGD.ipynb",
      "provenance": [],
      "collapsed_sections": [],
      "include_colab_link": true
    },
    "kernelspec": {
      "display_name": "Python 3",
      "name": "python3"
    },
    "language_info": {
      "name": "python"
    }
  },
  "cells": [
    {
      "cell_type": "markdown",
      "metadata": {
        "id": "view-in-github",
        "colab_type": "text"
      },
      "source": [
        "<a href=\"https://colab.research.google.com/github/pirdausaziz/Stochastic-Gradient-Descent-Presentation/blob/main/present_SGD.ipynb\" target=\"_parent\"><img src=\"https://colab.research.google.com/assets/colab-badge.svg\" alt=\"Open In Colab\"/></a>"
      ]
    },
    {
      "cell_type": "markdown",
      "metadata": {
        "id": "fETfIJX1EHhO"
      },
      "source": [
        "# **PART 1 UNDERSTANDING STOCHASTIC GRADIENT DESCENT ALGORITHM**"
      ]
    },
    {
      "cell_type": "markdown",
      "metadata": {
        "id": "jwuBMgy_EhD-"
      },
      "source": [
        "\n",
        "# Definition\n",
        "\n",
        "*   Stochastic Gradient Descent is **not a classifier**. It is actually an **optimizer** for the machine learning.  \n",
        "*   This optimizer can **reduce time** to find the **minimum loss function** by performing **loss gradient**. The loss gradient can be obtained by using **the chain rule**.\n",
        "*   The computation comes from Gradient Descent. Actually, the difference between Stochastic Gradient Descent and Gradient Descent is that Stochastic Gradient Descent takes **portion of randomized samples** to find the minimum loss. But for gradient descent **it iterates all the samples** and thus can cause prolong learning time.\n",
        "*   By using Stochastic Gradient Descent, learning time can be reduced. It also can be applied in regression problem to optimize loss function"
      ]
    },
    {
      "cell_type": "markdown",
      "metadata": {
        "id": "EouytQ2XICRs"
      },
      "source": [
        "# Simple Demonstration on Gradient Descent on Linear Regression"
      ]
    },
    {
      "cell_type": "code",
      "metadata": {
        "colab": {
          "base_uri": "https://localhost:8080/",
          "height": 244
        },
        "id": "e8JjVqWNIt_S",
        "outputId": "d3a6fbb4-c38a-4853-e71b-acfc1453129d"
      },
      "source": [
        "import numpy as np  # Matrix and vector computation package\n",
        "import matplotlib\n",
        "import matplotlib.pyplot as plt  # Plotting library\n",
        "import seaborn as sns  # Fancier plots\n",
        "\n",
        "# Set seaborn plotting style\n",
        "sns.set_style('darkgrid')\n",
        "# Set the seed for reproducability\n",
        "np.random.seed(seed=13)\n",
        "\n",
        "\n",
        "# Define the vector of input samples as x, with 20 values \n",
        "# sampled from a uniform distribution between 0 and 1\n",
        "x = np.random.uniform(0, 1, 20)\n",
        "\n",
        "# Generate the target values t from x with small gaussian noise \n",
        "# so the estimation won't be perfect.\n",
        "# Define a function f that represents the line that generates t \n",
        "# without noise.\n",
        "def f(x): \n",
        "    return x * 2\n",
        "\n",
        "# Create the targets t with some gaussian noise\n",
        "noise_variance = 0.2  # Variance of the gaussian noise\n",
        "# Gaussian noise error for each sample in x\n",
        "noise = np.random.randn(x.shape[0]) * noise_variance\n",
        "# Create targets t\n",
        "t = f(x) + noise\n",
        "#\n",
        "\n",
        "# Plot the target t versus the input x\n",
        "plt.figure(figsize=(5, 3))\n",
        "plt.plot(x, t, 'o', label='$t$')\n",
        "# Plot the initial line\n",
        "\n",
        "plt.plot([0, 1], [f(0), f(1)], 'b--', label='$f(x)$')\n",
        "plt.plot([0, 1], [f(-0.1), f(0.9)], 'b--', label='$f(x)$')\n",
        "plt.plot([0, 1], [f(0.1), f(1.1)], 'b--', label='$f(x)$')\n",
        "\n",
        "plt.xlabel('$x$', fontsize=12)\n",
        "plt.ylabel('$t$', fontsize=12)\n",
        "plt.axis((0, 1, 0, 2))\n",
        "plt.title('inputs (x) vs targets (t)')\n",
        "#plt.legend(loc=2)\n",
        "plt.show()\n",
        "#\n",
        "\n"
      ],
      "execution_count": null,
      "outputs": [
        {
          "output_type": "display_data",
          "data": {
            "image/png": "[encoded data removed]",
            "text/plain": [
              "<Figure size 360x216 with 1 Axes>"
            ]
          },
          "metadata": {}
        }
      ]
    },
    {
      "cell_type": "markdown",
      "metadata": {
        "id": "vZD5CkceOMDy"
      },
      "source": [
        ""
      ]
    },
    {
      "cell_type": "code",
      "metadata": {
        "colab": {
          "base_uri": "https://localhost:8080/",
          "height": 246
        },
        "id": "WBngz5hlJjQU",
        "outputId": "fd3546e9-8390-484e-8cb8-a665929dacd2"
      },
      "source": [
        "def nn(x, w):\n",
        "    \"\"\"Output function y = x * w\"\"\"# equivalent to y = mx +C , C=0\n",
        "    return x * w\n",
        "\n",
        "\n",
        "def loss(y, t):\n",
        "    \"\"\"MSE loss function\"\"\"\n",
        "    return np.mean((t - y)**2)\n",
        "\n",
        "# Plot the loss vs the given weight w\n",
        "\n",
        "# Vector of weights for which we want to plot the loss\n",
        "ws = np.linspace(0, 4, num=100)  # weight values\n",
        "# loss for each weight in ws\n",
        "\n",
        "# anws = np.vectorize(lambda w: loss(nn(x, w) , t))\n",
        "loss_ws = np.vectorize(lambda w: loss(nn(x, w) , t))(ws)\n",
        "\n",
        "# Plot\n",
        "plt.figure(figsize=(5, 3))\n",
        "plt.plot(ws, loss_ws, 'r--', label='loss')\n",
        "plt.xlabel('$w$', fontsize=12)\n",
        "plt.ylabel('$\\\\xi$', fontsize=12)\n",
        "plt.title('loss function with respect to $w$')\n",
        "plt.xlim(0, 4)\n",
        "plt.legend()\n",
        "plt.show()\n",
        "#\n",
        "\n"
      ],
      "execution_count": null,
      "outputs": [
        {
          "output_type": "display_data",
          "data": {
            "image/png": "[encoded data removed]",
            "text/plain": [
              "<Figure size 360x216 with 1 Axes>"
            ]
          },
          "metadata": {}
        }
      ]
    },
    {
      "cell_type": "code",
      "metadata": {
        "colab": {
          "base_uri": "https://localhost:8080/",
          "height": 584
        },
        "id": "3Lrs6hd2KNeT",
        "outputId": "0246ac71-8abb-4343-e0bf-d04370c8ea45"
      },
      "source": [
        "def gradient(w, x, t):\n",
        "    \"\"\"Gradient function. (Remember that y = nn(x, w) = x * w)\"\"\"\n",
        "    return 2 * x * (nn(x, w) - t)\n",
        "\n",
        "\n",
        "def delta_w(w_k, x, t, learning_rate):\n",
        "    \"\"\"Update function delta w\"\"\"\n",
        "    return learning_rate * np.mean(gradient(w_k, x, t))\n",
        "\n",
        "# Set the learning rate\n",
        "learning_rate = 0.9 # 2.5 or less than 1\n",
        "\n",
        "nb_of_iterations = 8  # number of gradient descent updates\n",
        "\n",
        "# Initial weight parameter\n",
        "w = np.random.rand()\n",
        "\n",
        "# Perform the gradient descent updates, and print the weights and loss:\n",
        "\n",
        "\n",
        "w_loss = [(w, loss(nn(x, w), t))] # Keep track of weight and loss values\n",
        "for i in range(nb_of_iterations):\n",
        "    dw = delta_w(w, x, t, learning_rate)  # Delta w update\n",
        "    print(f'gradient {i+1} : {abs(dw):.4f}')\n",
        "    w = w - dw  # Update the current weight parameter\n",
        "    w_loss.append((w, loss(nn(x, w), t)))  # Save weight and loss\n",
        "\n",
        "# Print the final w, and loss\n",
        "for i in range(0, len(w_loss)):\n",
        "    print(f'w({i}): {w_loss[i][0]:.4f} \\t loss: {w_loss[i][1]:.4f}')\n",
        "    \n",
        "# Visualise the gradient descent updates\n",
        "plt.figure(figsize=(6, 4))\n",
        "plt.plot(ws, loss_ws, 'r--', label='loss')  # Loss curve\n",
        "# Plot the updates\n",
        "for i in range(0, len(w_loss)-1):\n",
        "    w1, c1 = w_loss[i]\n",
        "    w2, c2 = w_loss[i+1]\n",
        "    plt.plot(w1, c1, 'bo')\n",
        "    plt.plot([w1, w2],[c1, c2], 'b-')\n",
        "    plt.text(w1, c1+0.05, f'${i}$')\n",
        "plt.plot(w2, c2, 'bo', label='$w(k)$')\n",
        "plt.text(w2, c2+0.05, f'${i+1}$')\n",
        "# Show figure\n",
        "plt.xlabel('$w$', fontsize=12)\n",
        "plt.ylabel('$\\\\xi$', fontsize=12)\n",
        "plt.title('Gradient descent updates plotted on loss function')\n",
        "plt.xlim(0, 4)\n",
        "plt.legend(loc=1)\n",
        "plt.show()\n",
        "#"
      ],
      "execution_count": null,
      "outputs": [
        {
          "output_type": "stream",
          "name": "stdout",
          "text": [
            "gradient 1 : 1.2342\n",
            "gradient 2 : 0.4483\n",
            "gradient 3 : 0.1629\n",
            "gradient 4 : 0.0592\n",
            "gradient 5 : 0.0215\n",
            "gradient 6 : 0.0078\n",
            "gradient 7 : 0.0028\n",
            "gradient 8 : 0.0010\n",
            "w(0): 0.1380 \t loss: 1.3710\n",
            "w(1): 1.3722 \t loss: 0.2174\n",
            "w(2): 1.8205 \t loss: 0.0651\n",
            "w(3): 1.9834 \t loss: 0.0451\n",
            "w(4): 2.0426 \t loss: 0.0424\n",
            "w(5): 2.0640 \t loss: 0.0420\n",
            "w(6): 2.0719 \t loss: 0.0420\n",
            "w(7): 2.0747 \t loss: 0.0420\n",
            "w(8): 2.0757 \t loss: 0.0420\n"
          ]
        },
        {
          "output_type": "display_data",
          "data": {
            "image/png": "[encoded data removed]",
            "text/plain": [
              "<Figure size 432x288 with 1 Axes>"
            ]
          },
          "metadata": {}
        }
      ]
    },
    {
      "cell_type": "markdown",
      "metadata": {
        "id": "wlPohuxhOP7a"
      },
      "source": [
        "# **PART 2 - SGD OPTIMIZER WITH LOGISTIC CLASSIFIER PROJECT**\n",
        "\n"
      ]
    },
    {
      "cell_type": "code",
      "metadata": {
        "id": "xBXMJGZS3_dh",
        "colab": {
          "base_uri": "https://localhost:8080/"
        },
        "outputId": "25e233d1-ad8b-4c71-fe18-80c5cb6f7b90"
      },
      "source": [
        "import os\n",
        "from google.colab import drive\n",
        "drive.mount('/content/drive/')\n",
        "\n",
        "os.chdir('/content/drive/MyDrive/')"
      ],
      "execution_count": null,
      "outputs": [
        {
          "output_type": "stream",
          "name": "stdout",
          "text": [
            "Drive already mounted at /content/drive/; to attempt to forcibly remount, call drive.mount(\"/content/drive/\", force_remount=True).\n"
          ]
        }
      ]
    },
    {
      "cell_type": "markdown",
      "metadata": {
        "id": "RL0ickWXOiXZ"
      },
      "source": [
        ""
      ]
    },
    {
      "cell_type": "code",
      "metadata": {
        "id": "RYr4t-R_38s6"
      },
      "source": [
        "#import necessary modules and data\n",
        "from sklearn.linear_model import SGDClassifier\n",
        "import numpy as np\n",
        "import pandas as pd\n",
        "from sklearn.model_selection import cross_val_score, train_test_split\n",
        "from sklearn.metrics import *\n",
        "from io import StringIO\n",
        "import sys#\n",
        "import matplotlib.pyplot as plt\n",
        "\n",
        "old_stdout = sys.stdout\n",
        "sys.stdout = mystdout = StringIO()"
      ],
      "execution_count": null,
      "outputs": []
    },
    {
      "cell_type": "code",
      "metadata": {
        "id": "aPIyBpBDZsLE"
      },
      "source": [
        "df = pd.read_csv('/content/drive/MyDrive/Water Quality.csv', index_col=False)\n",
        "\n",
        "X = df.values[:,:3]\n",
        "y = df.values[:,3]\n",
        "y = y.reshape(-1, 1)\n"
      ],
      "execution_count": null,
      "outputs": []
    },
    {
      "cell_type": "code",
      "metadata": {
        "id": "AvDusup16TfB"
      },
      "source": [
        "# data standardization\n",
        "mean = X.mean(axis=0)\n",
        "std = X.std(axis=0)\n",
        "X = (X - mean) / std"
      ],
      "execution_count": null,
      "outputs": []
    },
    {
      "cell_type": "code",
      "metadata": {
        "id": "OVXL9WGAD4BP"
      },
      "source": [
        "#train test split\n",
        "X_train, X_test, y_train, y_test = train_test_split(X, y, test_size=0.20, random_state=42)\n",
        "df_train = np.append(X_test, y_test, axis=1)\n",
        "# Inserting column name\n",
        "df_train = pd.DataFrame(df_train)\n",
        "df_train.columns = ['Ec value(ms/cm)', 'pH Value','TDS Value(ppm)','Label']"
      ],
      "execution_count": null,
      "outputs": []
    },
    {
      "cell_type": "code",
      "metadata": {
        "id": "72EdYleQ6WO_",
        "colab": {
          "base_uri": "https://localhost:8080/"
        },
        "outputId": "c2a93ebe-0aee-47e3-bdd7-b421ab4c6e03"
      },
      "source": [
        "# CLASSIFICATION USING LOG REGRESSION LOSS\n",
        "clf = SGDClassifier(loss=\"log\", penalty=None, learning_rate='constant', eta0=0.1, verbose=1)\n",
        "clf.n_iter = np.ceil(10**6 / len(y))\n",
        "clf.fit(X_train,y_train)"
      ],
      "execution_count": null,
      "outputs": [
        {
          "output_type": "stream",
          "name": "stderr",
          "text": [
            "/usr/local/lib/python3.7/dist-packages/sklearn/utils/validation.py:760: DataConversionWarning: A column-vector y was passed when a 1d array was expected. Please change the shape of y to (n_samples, ), for example using ravel().\n",
            "  y = column_or_1d(y, warn=True)\n",
            "[Parallel(n_jobs=1)]: Using backend SequentialBackend with 1 concurrent workers.\n",
            "[Parallel(n_jobs=1)]: Done   3 out of   3 | elapsed:    0.0s finished\n"
          ]
        },
        {
          "output_type": "execute_result",
          "data": {
            "text/plain": [
              "SGDClassifier(alpha=0.0001, average=False, class_weight=None,\n",
              "              early_stopping=False, epsilon=0.1, eta0=0.1, fit_intercept=True,\n",
              "              l1_ratio=0.15, learning_rate='constant', loss='log',\n",
              "              max_iter=1000, n_iter_no_change=5, n_jobs=None, penalty=None,\n",
              "              power_t=0.5, random_state=None, shuffle=True, tol=0.001,\n",
              "              validation_fraction=0.1, verbose=1, warm_start=False)"
            ]
          },
          "metadata": {},
          "execution_count": 10
        }
      ]
    },
    {
      "cell_type": "code",
      "metadata": {
        "id": "WwGnFIhYBkB_",
        "colab": {
          "base_uri": "https://localhost:8080/",
          "height": 279
        },
        "outputId": "4367b3a4-b4e8-47db-8dd5-fe77126f0803"
      },
      "source": [
        "# PRINT LOSS FUNCTION\n",
        "sys.stdout = old_stdout\n",
        "loss_history = mystdout.getvalue()\n",
        "\n",
        "loss_list = []\n",
        "\n",
        "for line in loss_history.split('\\n'):\n",
        "    if(len(line.split(\"loss: \")) == 1):\n",
        "        continue\n",
        "    loss_list.append(float(line.split(\"loss: \")[-1]))\n",
        "\n",
        "plt.figure()\n",
        "plt.plot(np.arange(len(loss_list)), loss_list)\n",
        "plt.xlabel(\"Time in epochs\"); plt.ylabel(\"Loss\")\n",
        "plt.show()"
      ],
      "execution_count": null,
      "outputs": [
        {
          "output_type": "display_data",
          "data": {
            "image/png": "[encoded data removed]",
            "text/plain": [
              "<Figure size 432x288 with 1 Axes>"
            ]
          },
          "metadata": {}
        }
      ]
    },
    {
      "cell_type": "code",
      "metadata": {
        "id": "hOq4z5D8alN8"
      },
      "source": [
        "# predict the test dataset\n",
        "predict_y = clf.predict(X_test)\n",
        "predict_yr = predict_y.reshape(-1, 1)\n",
        "prob_y  = clf.predict_proba(X_test)"
      ],
      "execution_count": null,
      "outputs": []
    },
    {
      "cell_type": "code",
      "metadata": {
        "id": "HpgOq4aY6ZU4"
      },
      "source": [
        "# highlighting errors and success sample from the test dataset\n",
        "output_name = df_train.columns[3]\n",
        "\n",
        "errors = df_train[df_train[output_name] != predict_y]\n",
        "accurate = df_train[df_train[output_name] == predict_y]"
      ],
      "execution_count": null,
      "outputs": []
    },
    {
      "cell_type": "code",
      "metadata": {
        "id": "_V1QmYQNTkz0",
        "colab": {
          "base_uri": "https://localhost:8080/",
          "height": 805
        },
        "outputId": "a31fc77f-eeed-42fe-c03b-cfe7b7470af2"
      },
      "source": [
        "print('total of error=', len(errors))\n",
        "errors"
      ],
      "execution_count": null,
      "outputs": [
        {
          "output_type": "stream",
          "name": "stdout",
          "text": [
            "total of error= 24\n"
          ]
        },
        {
          "output_type": "execute_result",
          "data": {
            "text/html": [
              "<div>\n",
              "<style scoped>\n",
              "    .dataframe tbody tr th:only-of-type {\n",
              "        vertical-align: middle;\n",
              "    }\n",
              "\n",
              "    .dataframe tbody tr th {\n",
              "        vertical-align: top;\n",
              "    }\n",
              "\n",
              "    .dataframe thead th {\n",
              "        text-align: right;\n",
              "    }\n",
              "</style>\n",
              "<table border=\"1\" class=\"dataframe\">\n",
              "  <thead>\n",
              "    <tr style=\"text-align: right;\">\n",
              "      <th></th>\n",
              "      <th>Ec value(ms/cm)</th>\n",
              "      <th>pH Value</th>\n",
              "      <th>TDS Value(ppm)</th>\n",
              "      <th>Label</th>\n",
              "    </tr>\n",
              "  </thead>\n",
              "  <tbody>\n",
              "    <tr>\n",
              "      <th>96</th>\n",
              "      <td>-1.155171</td>\n",
              "      <td>-1.007871</td>\n",
              "      <td>-0.630440</td>\n",
              "      <td>2.0</td>\n",
              "    </tr>\n",
              "    <tr>\n",
              "      <th>208</th>\n",
              "      <td>-0.592348</td>\n",
              "      <td>-0.567054</td>\n",
              "      <td>-0.999745</td>\n",
              "      <td>2.0</td>\n",
              "    </tr>\n",
              "    <tr>\n",
              "      <th>395</th>\n",
              "      <td>-0.797445</td>\n",
              "      <td>-0.820289</td>\n",
              "      <td>-0.752273</td>\n",
              "      <td>2.0</td>\n",
              "    </tr>\n",
              "    <tr>\n",
              "      <th>501</th>\n",
              "      <td>-0.642430</td>\n",
              "      <td>-0.735877</td>\n",
              "      <td>-0.622826</td>\n",
              "      <td>3.0</td>\n",
              "    </tr>\n",
              "    <tr>\n",
              "      <th>691</th>\n",
              "      <td>-0.642430</td>\n",
              "      <td>-0.632708</td>\n",
              "      <td>-0.737044</td>\n",
              "      <td>1.0</td>\n",
              "    </tr>\n",
              "    <tr>\n",
              "      <th>697</th>\n",
              "      <td>-0.642430</td>\n",
              "      <td>-0.726498</td>\n",
              "      <td>-0.622826</td>\n",
              "      <td>3.0</td>\n",
              "    </tr>\n",
              "    <tr>\n",
              "      <th>847</th>\n",
              "      <td>-0.642430</td>\n",
              "      <td>-0.979734</td>\n",
              "      <td>-0.607597</td>\n",
              "      <td>2.0</td>\n",
              "    </tr>\n",
              "    <tr>\n",
              "      <th>856</th>\n",
              "      <td>-0.642430</td>\n",
              "      <td>-1.036008</td>\n",
              "      <td>-0.634247</td>\n",
              "      <td>2.0</td>\n",
              "    </tr>\n",
              "    <tr>\n",
              "      <th>978</th>\n",
              "      <td>-0.592348</td>\n",
              "      <td>-1.045387</td>\n",
              "      <td>-0.622826</td>\n",
              "      <td>2.0</td>\n",
              "    </tr>\n",
              "    <tr>\n",
              "      <th>1019</th>\n",
              "      <td>-1.052623</td>\n",
              "      <td>-1.017250</td>\n",
              "      <td>-0.877912</td>\n",
              "      <td>2.0</td>\n",
              "    </tr>\n",
              "    <tr>\n",
              "      <th>1020</th>\n",
              "      <td>-1.155171</td>\n",
              "      <td>-1.073524</td>\n",
              "      <td>-0.752273</td>\n",
              "      <td>2.0</td>\n",
              "    </tr>\n",
              "    <tr>\n",
              "      <th>1114</th>\n",
              "      <td>-1.155171</td>\n",
              "      <td>-1.082903</td>\n",
              "      <td>-0.752273</td>\n",
              "      <td>2.0</td>\n",
              "    </tr>\n",
              "    <tr>\n",
              "      <th>1188</th>\n",
              "      <td>-0.642430</td>\n",
              "      <td>-0.735877</td>\n",
              "      <td>-0.622826</td>\n",
              "      <td>3.0</td>\n",
              "    </tr>\n",
              "    <tr>\n",
              "      <th>1220</th>\n",
              "      <td>-0.797445</td>\n",
              "      <td>-0.801531</td>\n",
              "      <td>-0.752273</td>\n",
              "      <td>2.0</td>\n",
              "    </tr>\n",
              "    <tr>\n",
              "      <th>1395</th>\n",
              "      <td>-1.155171</td>\n",
              "      <td>0.774155</td>\n",
              "      <td>0.191929</td>\n",
              "      <td>3.0</td>\n",
              "    </tr>\n",
              "    <tr>\n",
              "      <th>1397</th>\n",
              "      <td>-0.642430</td>\n",
              "      <td>-0.642087</td>\n",
              "      <td>-0.721815</td>\n",
              "      <td>1.0</td>\n",
              "    </tr>\n",
              "    <tr>\n",
              "      <th>1427</th>\n",
              "      <td>-1.155171</td>\n",
              "      <td>-0.970354</td>\n",
              "      <td>-1.053047</td>\n",
              "      <td>2.0</td>\n",
              "    </tr>\n",
              "    <tr>\n",
              "      <th>1609</th>\n",
              "      <td>-0.642430</td>\n",
              "      <td>-0.445126</td>\n",
              "      <td>-0.999745</td>\n",
              "      <td>2.0</td>\n",
              "    </tr>\n",
              "    <tr>\n",
              "      <th>1671</th>\n",
              "      <td>-0.744978</td>\n",
              "      <td>-0.801531</td>\n",
              "      <td>-0.752273</td>\n",
              "      <td>2.0</td>\n",
              "    </tr>\n",
              "    <tr>\n",
              "      <th>1713</th>\n",
              "      <td>-0.489800</td>\n",
              "      <td>-0.670224</td>\n",
              "      <td>-0.622826</td>\n",
              "      <td>3.0</td>\n",
              "    </tr>\n",
              "    <tr>\n",
              "      <th>1789</th>\n",
              "      <td>-0.744978</td>\n",
              "      <td>-0.792152</td>\n",
              "      <td>-0.752273</td>\n",
              "      <td>2.0</td>\n",
              "    </tr>\n",
              "    <tr>\n",
              "      <th>1812</th>\n",
              "      <td>-0.694896</td>\n",
              "      <td>-0.764015</td>\n",
              "      <td>-0.752273</td>\n",
              "      <td>2.0</td>\n",
              "    </tr>\n",
              "    <tr>\n",
              "      <th>1974</th>\n",
              "      <td>-1.155171</td>\n",
              "      <td>-0.998492</td>\n",
              "      <td>-1.037818</td>\n",
              "      <td>2.0</td>\n",
              "    </tr>\n",
              "    <tr>\n",
              "      <th>2004</th>\n",
              "      <td>-0.592348</td>\n",
              "      <td>-1.045387</td>\n",
              "      <td>-0.622826</td>\n",
              "      <td>2.0</td>\n",
              "    </tr>\n",
              "  </tbody>\n",
              "</table>\n",
              "</div>"
            ],
            "text/plain": [
              "      Ec value(ms/cm)  pH Value  TDS Value(ppm)  Label\n",
              "96          -1.155171 -1.007871       -0.630440    2.0\n",
              "208         -0.592348 -0.567054       -0.999745    2.0\n",
              "395         -0.797445 -0.820289       -0.752273    2.0\n",
              "501         -0.642430 -0.735877       -0.622826    3.0\n",
              "691         -0.642430 -0.632708       -0.737044    1.0\n",
              "697         -0.642430 -0.726498       -0.622826    3.0\n",
              "847         -0.642430 -0.979734       -0.607597    2.0\n",
              "856         -0.642430 -1.036008       -0.634247    2.0\n",
              "978         -0.592348 -1.045387       -0.622826    2.0\n",
              "1019        -1.052623 -1.017250       -0.877912    2.0\n",
              "1020        -1.155171 -1.073524       -0.752273    2.0\n",
              "1114        -1.155171 -1.082903       -0.752273    2.0\n",
              "1188        -0.642430 -0.735877       -0.622826    3.0\n",
              "1220        -0.797445 -0.801531       -0.752273    2.0\n",
              "1395        -1.155171  0.774155        0.191929    3.0\n",
              "1397        -0.642430 -0.642087       -0.721815    1.0\n",
              "1427        -1.155171 -0.970354       -1.053047    2.0\n",
              "1609        -0.642430 -0.445126       -0.999745    2.0\n",
              "1671        -0.744978 -0.801531       -0.752273    2.0\n",
              "1713        -0.489800 -0.670224       -0.622826    3.0\n",
              "1789        -0.744978 -0.792152       -0.752273    2.0\n",
              "1812        -0.694896 -0.764015       -0.752273    2.0\n",
              "1974        -1.155171 -0.998492       -1.037818    2.0\n",
              "2004        -0.592348 -1.045387       -0.622826    2.0"
            ]
          },
          "metadata": {},
          "execution_count": 14
        }
      ]
    },
    {
      "cell_type": "code",
      "metadata": {
        "id": "LvY9YbrVTttq",
        "colab": {
          "base_uri": "https://localhost:8080/",
          "height": 434
        },
        "outputId": "3732733f-7dd3-42f0-f65d-726a2fe57c2e"
      },
      "source": [
        "print('total of accurate=', len(accurate))\n",
        "accurate"
      ],
      "execution_count": null,
      "outputs": [
        {
          "output_type": "stream",
          "name": "stdout",
          "text": [
            "total of accurate= 2136\n"
          ]
        },
        {
          "output_type": "execute_result",
          "data": {
            "text/html": [
              "<div>\n",
              "<style scoped>\n",
              "    .dataframe tbody tr th:only-of-type {\n",
              "        vertical-align: middle;\n",
              "    }\n",
              "\n",
              "    .dataframe tbody tr th {\n",
              "        vertical-align: top;\n",
              "    }\n",
              "\n",
              "    .dataframe thead th {\n",
              "        text-align: right;\n",
              "    }\n",
              "</style>\n",
              "<table border=\"1\" class=\"dataframe\">\n",
              "  <thead>\n",
              "    <tr style=\"text-align: right;\">\n",
              "      <th></th>\n",
              "      <th>Ec value(ms/cm)</th>\n",
              "      <th>pH Value</th>\n",
              "      <th>TDS Value(ppm)</th>\n",
              "      <th>Label</th>\n",
              "    </tr>\n",
              "  </thead>\n",
              "  <tbody>\n",
              "    <tr>\n",
              "      <th>0</th>\n",
              "      <td>-0.744978</td>\n",
              "      <td>-0.651466</td>\n",
              "      <td>-0.702778</td>\n",
              "      <td>1.0</td>\n",
              "    </tr>\n",
              "    <tr>\n",
              "      <th>1</th>\n",
              "      <td>1.406152</td>\n",
              "      <td>1.702684</td>\n",
              "      <td>1.471171</td>\n",
              "      <td>3.0</td>\n",
              "    </tr>\n",
              "    <tr>\n",
              "      <th>2</th>\n",
              "      <td>-0.797445</td>\n",
              "      <td>-0.829668</td>\n",
              "      <td>-0.729429</td>\n",
              "      <td>1.0</td>\n",
              "    </tr>\n",
              "    <tr>\n",
              "      <th>3</th>\n",
              "      <td>1.508700</td>\n",
              "      <td>1.290004</td>\n",
              "      <td>1.539701</td>\n",
              "      <td>3.0</td>\n",
              "    </tr>\n",
              "    <tr>\n",
              "      <th>4</th>\n",
              "      <td>1.356070</td>\n",
              "      <td>1.374416</td>\n",
              "      <td>1.410254</td>\n",
              "      <td>3.0</td>\n",
              "    </tr>\n",
              "    <tr>\n",
              "      <th>...</th>\n",
              "      <td>...</td>\n",
              "      <td>...</td>\n",
              "      <td>...</td>\n",
              "      <td>...</td>\n",
              "    </tr>\n",
              "    <tr>\n",
              "      <th>2155</th>\n",
              "      <td>-0.642430</td>\n",
              "      <td>-0.613949</td>\n",
              "      <td>-0.577138</td>\n",
              "      <td>2.0</td>\n",
              "    </tr>\n",
              "    <tr>\n",
              "      <th>2156</th>\n",
              "      <td>-0.744978</td>\n",
              "      <td>-0.829668</td>\n",
              "      <td>-0.737044</td>\n",
              "      <td>1.0</td>\n",
              "    </tr>\n",
              "    <tr>\n",
              "      <th>2157</th>\n",
              "      <td>1.406152</td>\n",
              "      <td>1.440069</td>\n",
              "      <td>1.410254</td>\n",
              "      <td>3.0</td>\n",
              "    </tr>\n",
              "    <tr>\n",
              "      <th>2158</th>\n",
              "      <td>-0.642430</td>\n",
              "      <td>-0.416989</td>\n",
              "      <td>-0.607597</td>\n",
              "      <td>2.0</td>\n",
              "    </tr>\n",
              "    <tr>\n",
              "      <th>2159</th>\n",
              "      <td>1.303604</td>\n",
              "      <td>1.740200</td>\n",
              "      <td>1.398832</td>\n",
              "      <td>3.0</td>\n",
              "    </tr>\n",
              "  </tbody>\n",
              "</table>\n",
              "<p>2136 rows × 4 columns</p>\n",
              "</div>"
            ],
            "text/plain": [
              "      Ec value(ms/cm)  pH Value  TDS Value(ppm)  Label\n",
              "0           -0.744978 -0.651466       -0.702778    1.0\n",
              "1            1.406152  1.702684        1.471171    3.0\n",
              "2           -0.797445 -0.829668       -0.729429    1.0\n",
              "3            1.508700  1.290004        1.539701    3.0\n",
              "4            1.356070  1.374416        1.410254    3.0\n",
              "...               ...       ...             ...    ...\n",
              "2155        -0.642430 -0.613949       -0.577138    2.0\n",
              "2156        -0.744978 -0.829668       -0.737044    1.0\n",
              "2157         1.406152  1.440069        1.410254    3.0\n",
              "2158        -0.642430 -0.416989       -0.607597    2.0\n",
              "2159         1.303604  1.740200        1.398832    3.0\n",
              "\n",
              "[2136 rows x 4 columns]"
            ]
          },
          "metadata": {},
          "execution_count": 15
        }
      ]
    },
    {
      "cell_type": "code",
      "metadata": {
        "id": "arFvNZqA7TPC",
        "colab": {
          "base_uri": "https://localhost:8080/",
          "height": 464
        },
        "outputId": "07c4b9d2-c708-4052-d294-d5782fe6fd82"
      },
      "source": [
        "cm = confusion_matrix(y_test, predict_y)\n",
        "\n",
        "labels = ['Drain Water', 'Soap Water ', 'Pipe Water']\n",
        "\n",
        "print(classification_report(y_test, predict_y))\n",
        "ConfusionMatrixDisplay(cm, display_labels=labels).plot(values_format = '')"
      ],
      "execution_count": null,
      "outputs": [
        {
          "output_type": "stream",
          "name": "stdout",
          "text": [
            "              precision    recall  f1-score   support\n",
            "\n",
            "         1.0       0.98      1.00      0.99       709\n",
            "         2.0       0.99      0.98      0.98       719\n",
            "         3.0       1.00      0.99      1.00       732\n",
            "\n",
            "    accuracy                           0.99      2160\n",
            "   macro avg       0.99      0.99      0.99      2160\n",
            "weighted avg       0.99      0.99      0.99      2160\n",
            "\n"
          ]
        },
        {
          "output_type": "execute_result",
          "data": {
            "text/plain": [
              "<sklearn.metrics._plot.confusion_matrix.ConfusionMatrixDisplay at 0x7f84d1d2ad90>"
            ]
          },
          "metadata": {},
          "execution_count": 16
        },
        {
          "output_type": "display_data",
          "data": {
            "image/png": "[encoded data removed]",
            "text/plain": [
              "<Figure size 432x288 with 2 Axes>"
            ]
          },
          "metadata": {}
        }
      ]
    },
    {
      "cell_type": "code",
      "metadata": {
        "id": "Tl_EZVEpGpxv"
      },
      "source": [
        "print(classification_report(y_test, predict_y))"
      ],
      "execution_count": null,
      "outputs": []
    },
    {
      "cell_type": "markdown",
      "metadata": {
        "id": "N_WCFRVk_i_7"
      },
      "source": [
        "# **APPENDIX**"
      ]
    },
    {
      "cell_type": "markdown",
      "metadata": {
        "id": "_NNTQ4LGCqcO"
      },
      "source": [
        "**LOSS FUNCTION OF LOGISTIC REGRESSION BY USING GRADIENT DESCENT AS OPTIMIZER**"
      ]
    },
    {
      "cell_type": "code",
      "metadata": {
        "id": "A-7SOqYxCr5G"
      },
      "source": [
        "#IMPORTING TITANIC DATASET\n",
        "import numpy as np\n",
        "import pandas as pd\n",
        "import matplotlib.pyplot as plt\n",
        "\n",
        "X_train = pd.read_csv(\"train_X.csv\")\n",
        "Y_train = pd.read_csv(\"train_Y.csv\")\n",
        "\n",
        "X_test = pd.read_csv(\"test_X.csv\")\n",
        "Y_test = pd.read_csv(\"test_Y.csv\")"
      ],
      "execution_count": null,
      "outputs": []
    },
    {
      "cell_type": "code",
      "metadata": {
        "id": "svrpKk2-Sphr",
        "colab": {
          "base_uri": "https://localhost:8080/",
          "height": 417
        },
        "outputId": "c396d6fa-3744-4447-91f6-fb9e76cdbdf5"
      },
      "source": [
        "X_train"
      ],
      "execution_count": null,
      "outputs": [
        {
          "output_type": "execute_result",
          "data": {
            "text/html": [
              "<div>\n",
              "<style scoped>\n",
              "    .dataframe tbody tr th:only-of-type {\n",
              "        vertical-align: middle;\n",
              "    }\n",
              "\n",
              "    .dataframe tbody tr th {\n",
              "        vertical-align: top;\n",
              "    }\n",
              "\n",
              "    .dataframe thead th {\n",
              "        text-align: right;\n",
              "    }\n",
              "</style>\n",
              "<table border=\"1\" class=\"dataframe\">\n",
              "  <thead>\n",
              "    <tr style=\"text-align: right;\">\n",
              "      <th></th>\n",
              "      <th>Id</th>\n",
              "      <th>Pclass</th>\n",
              "      <th>Sex</th>\n",
              "      <th>Age</th>\n",
              "      <th>SibSp</th>\n",
              "      <th>Parch</th>\n",
              "      <th>Fare</th>\n",
              "      <th>Embarked</th>\n",
              "    </tr>\n",
              "  </thead>\n",
              "  <tbody>\n",
              "    <tr>\n",
              "      <th>0</th>\n",
              "      <td>0</td>\n",
              "      <td>3</td>\n",
              "      <td>0</td>\n",
              "      <td>22.0</td>\n",
              "      <td>1</td>\n",
              "      <td>0</td>\n",
              "      <td>7.2500</td>\n",
              "      <td>1</td>\n",
              "    </tr>\n",
              "    <tr>\n",
              "      <th>1</th>\n",
              "      <td>1</td>\n",
              "      <td>1</td>\n",
              "      <td>1</td>\n",
              "      <td>38.0</td>\n",
              "      <td>1</td>\n",
              "      <td>0</td>\n",
              "      <td>71.2833</td>\n",
              "      <td>0</td>\n",
              "    </tr>\n",
              "    <tr>\n",
              "      <th>2</th>\n",
              "      <td>2</td>\n",
              "      <td>3</td>\n",
              "      <td>1</td>\n",
              "      <td>26.0</td>\n",
              "      <td>0</td>\n",
              "      <td>0</td>\n",
              "      <td>7.9250</td>\n",
              "      <td>1</td>\n",
              "    </tr>\n",
              "    <tr>\n",
              "      <th>3</th>\n",
              "      <td>3</td>\n",
              "      <td>1</td>\n",
              "      <td>1</td>\n",
              "      <td>35.0</td>\n",
              "      <td>1</td>\n",
              "      <td>0</td>\n",
              "      <td>53.1000</td>\n",
              "      <td>1</td>\n",
              "    </tr>\n",
              "    <tr>\n",
              "      <th>4</th>\n",
              "      <td>4</td>\n",
              "      <td>3</td>\n",
              "      <td>0</td>\n",
              "      <td>35.0</td>\n",
              "      <td>0</td>\n",
              "      <td>0</td>\n",
              "      <td>8.0500</td>\n",
              "      <td>1</td>\n",
              "    </tr>\n",
              "    <tr>\n",
              "      <th>...</th>\n",
              "      <td>...</td>\n",
              "      <td>...</td>\n",
              "      <td>...</td>\n",
              "      <td>...</td>\n",
              "      <td>...</td>\n",
              "      <td>...</td>\n",
              "      <td>...</td>\n",
              "      <td>...</td>\n",
              "    </tr>\n",
              "    <tr>\n",
              "      <th>886</th>\n",
              "      <td>886</td>\n",
              "      <td>2</td>\n",
              "      <td>0</td>\n",
              "      <td>27.0</td>\n",
              "      <td>0</td>\n",
              "      <td>0</td>\n",
              "      <td>13.0000</td>\n",
              "      <td>1</td>\n",
              "    </tr>\n",
              "    <tr>\n",
              "      <th>887</th>\n",
              "      <td>887</td>\n",
              "      <td>1</td>\n",
              "      <td>1</td>\n",
              "      <td>19.0</td>\n",
              "      <td>0</td>\n",
              "      <td>0</td>\n",
              "      <td>30.0000</td>\n",
              "      <td>1</td>\n",
              "    </tr>\n",
              "    <tr>\n",
              "      <th>888</th>\n",
              "      <td>888</td>\n",
              "      <td>3</td>\n",
              "      <td>1</td>\n",
              "      <td>20.0</td>\n",
              "      <td>1</td>\n",
              "      <td>2</td>\n",
              "      <td>23.4500</td>\n",
              "      <td>1</td>\n",
              "    </tr>\n",
              "    <tr>\n",
              "      <th>889</th>\n",
              "      <td>889</td>\n",
              "      <td>1</td>\n",
              "      <td>0</td>\n",
              "      <td>26.0</td>\n",
              "      <td>0</td>\n",
              "      <td>0</td>\n",
              "      <td>30.0000</td>\n",
              "      <td>0</td>\n",
              "    </tr>\n",
              "    <tr>\n",
              "      <th>890</th>\n",
              "      <td>890</td>\n",
              "      <td>3</td>\n",
              "      <td>0</td>\n",
              "      <td>32.0</td>\n",
              "      <td>0</td>\n",
              "      <td>0</td>\n",
              "      <td>7.7500</td>\n",
              "      <td>2</td>\n",
              "    </tr>\n",
              "  </tbody>\n",
              "</table>\n",
              "<p>891 rows × 8 columns</p>\n",
              "</div>"
            ],
            "text/plain": [
              "      Id  Pclass  Sex   Age  SibSp  Parch     Fare  Embarked\n",
              "0      0       3    0  22.0      1      0   7.2500         1\n",
              "1      1       1    1  38.0      1      0  71.2833         0\n",
              "2      2       3    1  26.0      0      0   7.9250         1\n",
              "3      3       1    1  35.0      1      0  53.1000         1\n",
              "4      4       3    0  35.0      0      0   8.0500         1\n",
              "..   ...     ...  ...   ...    ...    ...      ...       ...\n",
              "886  886       2    0  27.0      0      0  13.0000         1\n",
              "887  887       1    1  19.0      0      0  30.0000         1\n",
              "888  888       3    1  20.0      1      2  23.4500         1\n",
              "889  889       1    0  26.0      0      0  30.0000         0\n",
              "890  890       3    0  32.0      0      0   7.7500         2\n",
              "\n",
              "[891 rows x 8 columns]"
            ]
          },
          "metadata": {},
          "execution_count": 19
        }
      ]
    },
    {
      "cell_type": "code",
      "metadata": {
        "id": "LenRMDtZSqNy",
        "colab": {
          "base_uri": "https://localhost:8080/",
          "height": 417
        },
        "outputId": "461d6280-b336-4643-a891-1c2c6e378eec"
      },
      "source": [
        "Y_train"
      ],
      "execution_count": null,
      "outputs": [
        {
          "output_type": "execute_result",
          "data": {
            "text/html": [
              "<div>\n",
              "<style scoped>\n",
              "    .dataframe tbody tr th:only-of-type {\n",
              "        vertical-align: middle;\n",
              "    }\n",
              "\n",
              "    .dataframe tbody tr th {\n",
              "        vertical-align: top;\n",
              "    }\n",
              "\n",
              "    .dataframe thead th {\n",
              "        text-align: right;\n",
              "    }\n",
              "</style>\n",
              "<table border=\"1\" class=\"dataframe\">\n",
              "  <thead>\n",
              "    <tr style=\"text-align: right;\">\n",
              "      <th></th>\n",
              "      <th>Id</th>\n",
              "      <th>Survived</th>\n",
              "    </tr>\n",
              "  </thead>\n",
              "  <tbody>\n",
              "    <tr>\n",
              "      <th>0</th>\n",
              "      <td>0</td>\n",
              "      <td>0</td>\n",
              "    </tr>\n",
              "    <tr>\n",
              "      <th>1</th>\n",
              "      <td>1</td>\n",
              "      <td>1</td>\n",
              "    </tr>\n",
              "    <tr>\n",
              "      <th>2</th>\n",
              "      <td>2</td>\n",
              "      <td>1</td>\n",
              "    </tr>\n",
              "    <tr>\n",
              "      <th>3</th>\n",
              "      <td>3</td>\n",
              "      <td>1</td>\n",
              "    </tr>\n",
              "    <tr>\n",
              "      <th>4</th>\n",
              "      <td>4</td>\n",
              "      <td>0</td>\n",
              "    </tr>\n",
              "    <tr>\n",
              "      <th>...</th>\n",
              "      <td>...</td>\n",
              "      <td>...</td>\n",
              "    </tr>\n",
              "    <tr>\n",
              "      <th>886</th>\n",
              "      <td>886</td>\n",
              "      <td>0</td>\n",
              "    </tr>\n",
              "    <tr>\n",
              "      <th>887</th>\n",
              "      <td>887</td>\n",
              "      <td>1</td>\n",
              "    </tr>\n",
              "    <tr>\n",
              "      <th>888</th>\n",
              "      <td>888</td>\n",
              "      <td>0</td>\n",
              "    </tr>\n",
              "    <tr>\n",
              "      <th>889</th>\n",
              "      <td>889</td>\n",
              "      <td>1</td>\n",
              "    </tr>\n",
              "    <tr>\n",
              "      <th>890</th>\n",
              "      <td>890</td>\n",
              "      <td>0</td>\n",
              "    </tr>\n",
              "  </tbody>\n",
              "</table>\n",
              "<p>891 rows × 2 columns</p>\n",
              "</div>"
            ],
            "text/plain": [
              "      Id  Survived\n",
              "0      0         0\n",
              "1      1         1\n",
              "2      2         1\n",
              "3      3         1\n",
              "4      4         0\n",
              "..   ...       ...\n",
              "886  886         0\n",
              "887  887         1\n",
              "888  888         0\n",
              "889  889         1\n",
              "890  890         0\n",
              "\n",
              "[891 rows x 2 columns]"
            ]
          },
          "metadata": {},
          "execution_count": 20
        }
      ]
    },
    {
      "cell_type": "code",
      "metadata": {
        "id": "fUOHFfx6SqyS",
        "colab": {
          "base_uri": "https://localhost:8080/",
          "height": 417
        },
        "outputId": "50b34cb2-8a11-47ae-cbf8-087d6b1422f5"
      },
      "source": [
        "X_test"
      ],
      "execution_count": null,
      "outputs": [
        {
          "output_type": "execute_result",
          "data": {
            "text/html": [
              "<div>\n",
              "<style scoped>\n",
              "    .dataframe tbody tr th:only-of-type {\n",
              "        vertical-align: middle;\n",
              "    }\n",
              "\n",
              "    .dataframe tbody tr th {\n",
              "        vertical-align: top;\n",
              "    }\n",
              "\n",
              "    .dataframe thead th {\n",
              "        text-align: right;\n",
              "    }\n",
              "</style>\n",
              "<table border=\"1\" class=\"dataframe\">\n",
              "  <thead>\n",
              "    <tr style=\"text-align: right;\">\n",
              "      <th></th>\n",
              "      <th>Id</th>\n",
              "      <th>Pclass</th>\n",
              "      <th>Sex</th>\n",
              "      <th>Age</th>\n",
              "      <th>SibSp</th>\n",
              "      <th>Parch</th>\n",
              "      <th>Fare</th>\n",
              "      <th>Embarked</th>\n",
              "    </tr>\n",
              "  </thead>\n",
              "  <tbody>\n",
              "    <tr>\n",
              "      <th>0</th>\n",
              "      <td>0</td>\n",
              "      <td>3</td>\n",
              "      <td>0</td>\n",
              "      <td>34.5</td>\n",
              "      <td>0</td>\n",
              "      <td>0</td>\n",
              "      <td>7.8292</td>\n",
              "      <td>2</td>\n",
              "    </tr>\n",
              "    <tr>\n",
              "      <th>1</th>\n",
              "      <td>1</td>\n",
              "      <td>3</td>\n",
              "      <td>1</td>\n",
              "      <td>47.0</td>\n",
              "      <td>1</td>\n",
              "      <td>0</td>\n",
              "      <td>7.0000</td>\n",
              "      <td>1</td>\n",
              "    </tr>\n",
              "    <tr>\n",
              "      <th>2</th>\n",
              "      <td>2</td>\n",
              "      <td>2</td>\n",
              "      <td>0</td>\n",
              "      <td>62.0</td>\n",
              "      <td>0</td>\n",
              "      <td>0</td>\n",
              "      <td>9.6875</td>\n",
              "      <td>2</td>\n",
              "    </tr>\n",
              "    <tr>\n",
              "      <th>3</th>\n",
              "      <td>3</td>\n",
              "      <td>3</td>\n",
              "      <td>0</td>\n",
              "      <td>27.0</td>\n",
              "      <td>0</td>\n",
              "      <td>0</td>\n",
              "      <td>8.6625</td>\n",
              "      <td>1</td>\n",
              "    </tr>\n",
              "    <tr>\n",
              "      <th>4</th>\n",
              "      <td>4</td>\n",
              "      <td>3</td>\n",
              "      <td>1</td>\n",
              "      <td>22.0</td>\n",
              "      <td>1</td>\n",
              "      <td>1</td>\n",
              "      <td>12.2875</td>\n",
              "      <td>1</td>\n",
              "    </tr>\n",
              "    <tr>\n",
              "      <th>...</th>\n",
              "      <td>...</td>\n",
              "      <td>...</td>\n",
              "      <td>...</td>\n",
              "      <td>...</td>\n",
              "      <td>...</td>\n",
              "      <td>...</td>\n",
              "      <td>...</td>\n",
              "      <td>...</td>\n",
              "    </tr>\n",
              "    <tr>\n",
              "      <th>413</th>\n",
              "      <td>413</td>\n",
              "      <td>3</td>\n",
              "      <td>0</td>\n",
              "      <td>NaN</td>\n",
              "      <td>0</td>\n",
              "      <td>0</td>\n",
              "      <td>8.0500</td>\n",
              "      <td>1</td>\n",
              "    </tr>\n",
              "    <tr>\n",
              "      <th>414</th>\n",
              "      <td>414</td>\n",
              "      <td>1</td>\n",
              "      <td>1</td>\n",
              "      <td>39.0</td>\n",
              "      <td>0</td>\n",
              "      <td>0</td>\n",
              "      <td>108.9000</td>\n",
              "      <td>0</td>\n",
              "    </tr>\n",
              "    <tr>\n",
              "      <th>415</th>\n",
              "      <td>415</td>\n",
              "      <td>3</td>\n",
              "      <td>0</td>\n",
              "      <td>38.5</td>\n",
              "      <td>0</td>\n",
              "      <td>0</td>\n",
              "      <td>7.2500</td>\n",
              "      <td>1</td>\n",
              "    </tr>\n",
              "    <tr>\n",
              "      <th>416</th>\n",
              "      <td>416</td>\n",
              "      <td>3</td>\n",
              "      <td>0</td>\n",
              "      <td>NaN</td>\n",
              "      <td>0</td>\n",
              "      <td>0</td>\n",
              "      <td>8.0500</td>\n",
              "      <td>1</td>\n",
              "    </tr>\n",
              "    <tr>\n",
              "      <th>417</th>\n",
              "      <td>417</td>\n",
              "      <td>3</td>\n",
              "      <td>0</td>\n",
              "      <td>NaN</td>\n",
              "      <td>1</td>\n",
              "      <td>1</td>\n",
              "      <td>22.3583</td>\n",
              "      <td>0</td>\n",
              "    </tr>\n",
              "  </tbody>\n",
              "</table>\n",
              "<p>418 rows × 8 columns</p>\n",
              "</div>"
            ],
            "text/plain": [
              "      Id  Pclass  Sex   Age  SibSp  Parch      Fare  Embarked\n",
              "0      0       3    0  34.5      0      0    7.8292         2\n",
              "1      1       3    1  47.0      1      0    7.0000         1\n",
              "2      2       2    0  62.0      0      0    9.6875         2\n",
              "3      3       3    0  27.0      0      0    8.6625         1\n",
              "4      4       3    1  22.0      1      1   12.2875         1\n",
              "..   ...     ...  ...   ...    ...    ...       ...       ...\n",
              "413  413       3    0   NaN      0      0    8.0500         1\n",
              "414  414       1    1  39.0      0      0  108.9000         0\n",
              "415  415       3    0  38.5      0      0    7.2500         1\n",
              "416  416       3    0   NaN      0      0    8.0500         1\n",
              "417  417       3    0   NaN      1      1   22.3583         0\n",
              "\n",
              "[418 rows x 8 columns]"
            ]
          },
          "metadata": {},
          "execution_count": 21
        }
      ]
    },
    {
      "cell_type": "code",
      "metadata": {
        "id": "6dfVH-tYSq-S",
        "colab": {
          "base_uri": "https://localhost:8080/",
          "height": 417
        },
        "outputId": "65d87676-ad37-4d81-ac6a-b42bcb217788"
      },
      "source": [
        "Y_test"
      ],
      "execution_count": null,
      "outputs": [
        {
          "output_type": "execute_result",
          "data": {
            "text/html": [
              "<div>\n",
              "<style scoped>\n",
              "    .dataframe tbody tr th:only-of-type {\n",
              "        vertical-align: middle;\n",
              "    }\n",
              "\n",
              "    .dataframe tbody tr th {\n",
              "        vertical-align: top;\n",
              "    }\n",
              "\n",
              "    .dataframe thead th {\n",
              "        text-align: right;\n",
              "    }\n",
              "</style>\n",
              "<table border=\"1\" class=\"dataframe\">\n",
              "  <thead>\n",
              "    <tr style=\"text-align: right;\">\n",
              "      <th></th>\n",
              "      <th>Id</th>\n",
              "      <th>Survived</th>\n",
              "    </tr>\n",
              "  </thead>\n",
              "  <tbody>\n",
              "    <tr>\n",
              "      <th>0</th>\n",
              "      <td>0</td>\n",
              "      <td>0</td>\n",
              "    </tr>\n",
              "    <tr>\n",
              "      <th>1</th>\n",
              "      <td>1</td>\n",
              "      <td>1</td>\n",
              "    </tr>\n",
              "    <tr>\n",
              "      <th>2</th>\n",
              "      <td>2</td>\n",
              "      <td>0</td>\n",
              "    </tr>\n",
              "    <tr>\n",
              "      <th>3</th>\n",
              "      <td>3</td>\n",
              "      <td>0</td>\n",
              "    </tr>\n",
              "    <tr>\n",
              "      <th>4</th>\n",
              "      <td>4</td>\n",
              "      <td>1</td>\n",
              "    </tr>\n",
              "    <tr>\n",
              "      <th>...</th>\n",
              "      <td>...</td>\n",
              "      <td>...</td>\n",
              "    </tr>\n",
              "    <tr>\n",
              "      <th>413</th>\n",
              "      <td>413</td>\n",
              "      <td>0</td>\n",
              "    </tr>\n",
              "    <tr>\n",
              "      <th>414</th>\n",
              "      <td>414</td>\n",
              "      <td>1</td>\n",
              "    </tr>\n",
              "    <tr>\n",
              "      <th>415</th>\n",
              "      <td>415</td>\n",
              "      <td>0</td>\n",
              "    </tr>\n",
              "    <tr>\n",
              "      <th>416</th>\n",
              "      <td>416</td>\n",
              "      <td>0</td>\n",
              "    </tr>\n",
              "    <tr>\n",
              "      <th>417</th>\n",
              "      <td>417</td>\n",
              "      <td>0</td>\n",
              "    </tr>\n",
              "  </tbody>\n",
              "</table>\n",
              "<p>418 rows × 2 columns</p>\n",
              "</div>"
            ],
            "text/plain": [
              "      Id  Survived\n",
              "0      0         0\n",
              "1      1         1\n",
              "2      2         0\n",
              "3      3         0\n",
              "4      4         1\n",
              "..   ...       ...\n",
              "413  413         0\n",
              "414  414         1\n",
              "415  415         0\n",
              "416  416         0\n",
              "417  417         0\n",
              "\n",
              "[418 rows x 2 columns]"
            ]
          },
          "metadata": {},
          "execution_count": 22
        }
      ]
    },
    {
      "cell_type": "code",
      "metadata": {
        "id": "51AUrpqASXjZ"
      },
      "source": [
        "#removing ID variable\n",
        "X_train = X_train.drop(\"Id\", axis = 1)\n",
        "Y_train = Y_train.drop(\"Id\", axis = 1)\n",
        "X_test = X_test.drop(\"Id\", axis = 1)\n",
        "Y_test = Y_test.drop(\"Id\", axis = 1)\n",
        "\n",
        "X_train = X_train.values\n",
        "Y_train = Y_train.values\n",
        "X_test = X_test.values\n",
        "Y_test = Y_test.values\n",
        "\n",
        "X_train = X_train.T\n",
        "Y_train = Y_train.reshape(1, X_train.shape[1])\n",
        "\n",
        "X_test = X_test.T\n",
        "Y_test = Y_test.reshape(1, X_test.shape[1])"
      ],
      "execution_count": null,
      "outputs": []
    },
    {
      "cell_type": "code",
      "metadata": {
        "id": "S1PXJjllSJdj"
      },
      "source": [
        "#FUNCTION DECLARATION\n",
        "def sigmoid(x):\n",
        "    return 1/(1 + np.exp(-x))\n",
        "\n",
        "def model(X, Y, learning_rate, iterations):\n",
        "    \n",
        "    m = X_train.shape[1]\n",
        "    n = X_train.shape[0]\n",
        "    \n",
        "    W = np.zeros((n,1))\n",
        "    B = 0\n",
        "    \n",
        "    cost_list = []\n",
        "    W_list = []\n",
        "    B_list = []\n",
        "    for i in range(iterations):\n",
        "        \n",
        "        Z = np.dot(W.T, X) + B\n",
        "        A = sigmoid(Z)\n",
        "        \n",
        "        # cost function\n",
        "        cost = -(1/m)*np.sum( Y*np.log(A) + (1-Y)*np.log(1-A))\n",
        "        \n",
        "        # Gradient Descent\n",
        "        dW = (1/m)*np.dot(A-Y, X.T)\n",
        "        dB = (1/m)*np.sum(A - Y)\n",
        "        \n",
        "        W = W - learning_rate*dW.T\n",
        "        B = B - learning_rate*dB\n",
        "        \n",
        "        \n",
        "        # Keeping track of our cost function value\n",
        "        cost_list.append(cost)\n",
        "        W_list.append(dW.mean())\n",
        "        B_list.append(dB.mean())\n",
        "        \n",
        "        if(i%(iterations/10) == 0):\n",
        "            print(\"cost after \", i, \"iteration is : \", cost)\n",
        "        \n",
        "    return W, W_list, B, B_list, cost_list, Z, A"
      ],
      "execution_count": null,
      "outputs": []
    },
    {
      "cell_type": "code",
      "metadata": {
        "id": "8x2FOHfDSN8J",
        "colab": {
          "base_uri": "https://localhost:8080/",
          "height": 973
        },
        "outputId": "2cb17c01-872d-4ec6-d43f-a6f17d953f69"
      },
      "source": [
        "#GRADIENT DESCENT\n",
        "iterations = 100000\n",
        "learning_rate = 0.0000015\n",
        "W, W_list, B, B_list, cost_list, eq, sig = model(\n",
        "    X_train, Y_train, learning_rate = learning_rate, \n",
        "    iterations = iterations)\n",
        "\n",
        "plt.plot(np.arange(iterations), cost_list)\n",
        "plt.xlabel('iteration')\n",
        "plt.ylabel('loss')\n",
        "plt.show()\n",
        "\n",
        "plt.plot(np.arange(iterations), W_list)\n",
        "plt.xlabel('iteration')\n",
        "plt.ylabel('gradient W')\n",
        "plt.show()\n",
        "\n",
        "plt.plot(np.arange(iterations), B_list)\n",
        "plt.xlabel('iteration')\n",
        "plt.ylabel('gradient B')\n",
        "plt.show()"
      ],
      "execution_count": null,
      "outputs": [
        {
          "output_type": "stream",
          "name": "stdout",
          "text": [
            "cost after  0 iteration is :  0.6931471805599454\n",
            "cost after  10000 iteration is :  0.6295686409430729\n",
            "cost after  20000 iteration is :  0.6274436493068999\n",
            "cost after  30000 iteration is :  0.6268214767445494\n",
            "cost after  40000 iteration is :  0.6262758152575622\n",
            "cost after  50000 iteration is :  0.6257402517931562\n",
            "cost after  60000 iteration is :  0.6252112056071689\n",
            "cost after  70000 iteration is :  0.624688381844937\n",
            "cost after  80000 iteration is :  0.6241716634458006\n",
            "cost after  90000 iteration is :  0.6236609444737222\n"
          ]
        },
        {
          "output_type": "display_data",
          "data": {
            "image/png": "[encoded data removed]",
            "text/plain": [
              "<Figure size 432x288 with 1 Axes>"
            ]
          },
          "metadata": {}
        },
        {
          "output_type": "display_data",
          "data": {
            "image/png": "[encoded data removed]",
            "text/plain": [
              "<Figure size 432x288 with 1 Axes>"
            ]
          },
          "metadata": {}
        },
        {
          "output_type": "display_data",
          "data": {
            "image/png": "[encoded data removed]",
            "text/plain": [
              "<Figure size 432x288 with 1 Axes>"
            ]
          },
          "metadata": {}
        }
      ]
    },
    {
      "cell_type": "code",
      "metadata": {
        "id": "CSQPZaYZSMFp",
        "colab": {
          "base_uri": "https://localhost:8080/"
        },
        "outputId": "8f806805-fa1f-4bb2-9ea1-d4ed9628ddba"
      },
      "source": [
        "def accuracy(X, Y, W, B):\n",
        "    \n",
        "    Z = np.dot(W.T, X) + B\n",
        "    A = sigmoid(Z)\n",
        "    \n",
        "    A = A > 0.5\n",
        "    \n",
        "    A = np.array(A, dtype = 'int64')\n",
        "    \n",
        "    acc = (1 - np.sum(np.absolute(A - Y))/Y.shape[1])*100\n",
        "    \n",
        "    print(\"Accuracy of the model is : \", round(acc, 2), \"%\")\n",
        "    \n",
        "accuracy(X_test, Y_test, W, B)"
      ],
      "execution_count": null,
      "outputs": [
        {
          "output_type": "stream",
          "name": "stdout",
          "text": [
            "Accuracy of the model is :  65.55 %\n"
          ]
        }
      ]
    }
  ]
}